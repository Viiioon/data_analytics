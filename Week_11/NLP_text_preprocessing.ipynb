{
 "cells": [
  {
   "cell_type": "markdown",
   "id": "e0f68ae5",
   "metadata": {},
   "source": [
    "# Natural Language Processing - Text Preprocessing"
   ]
  },
  {
   "cell_type": "markdown",
   "id": "2054b14d",
   "metadata": {},
   "source": [
    "## Libraries and settings"
   ]
  },
  {
   "cell_type": "code",
   "execution_count": 42,
   "id": "ba4eb3dc",
   "metadata": {},
   "outputs": [
    {
     "name": "stdout",
     "output_type": "stream",
     "text": [
      "Current working directory: c:\\Users\\vionh\\workspace\\Data Analysis\\data_analytics\\Week_11\n"
     ]
    },
    {
     "name": "stderr",
     "output_type": "stream",
     "text": [
      "[nltk_data] Downloading package stopwords to\n",
      "[nltk_data]     C:\\Users\\vionh\\AppData\\Roaming\\nltk_data...\n",
      "[nltk_data]   Package stopwords is already up-to-date!\n",
      "[nltk_data] Downloading package punkt to\n",
      "[nltk_data]     C:\\Users\\vionh\\AppData\\Roaming\\nltk_data...\n",
      "[nltk_data]   Package punkt is already up-to-date!\n",
      "[nltk_data] Downloading package wordnet to\n",
      "[nltk_data]     C:\\Users\\vionh\\AppData\\Roaming\\nltk_data...\n",
      "[nltk_data]   Package wordnet is already up-to-date!\n",
      "[nltk_data] Downloading package omw-1.4 to\n",
      "[nltk_data]     C:\\Users\\vionh\\AppData\\Roaming\\nltk_data...\n",
      "[nltk_data]   Package omw-1.4 is already up-to-date!\n",
      "[nltk_data] Downloading package averaged_perceptron_tagger to\n",
      "[nltk_data]     C:\\Users\\vionh\\AppData\\Roaming\\nltk_data...\n",
      "[nltk_data]   Package averaged_perceptron_tagger is already up-to-\n",
      "[nltk_data]       date!\n"
     ]
    }
   ],
   "source": [
    "# Libraries\n",
    "import os\n",
    "import re\n",
    "import string\n",
    "import numpy as np\n",
    "import pandas as pd\n",
    "from pprint import pprint\n",
    "\n",
    "import nltk\n",
    "\n",
    "# Import only once\n",
    "nltk.download('stopwords')\n",
    "nltk.download('punkt')\n",
    "nltk.download('wordnet')\n",
    "nltk.download('omw-1.4')\n",
    "nltk.download('averaged_perceptron_tagger')\n",
    "\n",
    "from nltk.tag import pos_tag\n",
    "from nltk.corpus import stopwords\n",
    "from nltk.chunk import tree2conlltags\n",
    "from nltk.chunk import conlltags2tree\n",
    "from nltk.tokenize import word_tokenize\n",
    "from nltk.stem import WordNetLemmatizer\n",
    "\n",
    "from sklearn.feature_extraction.text import CountVectorizer\n",
    "from sklearn.feature_extraction.text import TfidfVectorizer\n",
    "\n",
    "# Ignore warnings\n",
    "import warnings\n",
    "warnings.filterwarnings('ignore')\n",
    "\n",
    "# Current working directory\n",
    "print('Current working directory:', os.getcwd())"
   ]
  },
  {
   "cell_type": "markdown",
   "id": "e252684a",
   "metadata": {},
   "source": [
    "## Defining documents"
   ]
  },
  {
   "cell_type": "code",
   "execution_count": 43,
   "id": "e8057467",
   "metadata": {},
   "outputs": [
    {
     "data": {
      "text/plain": [
       "'The car is driven on the road. The truck is driven on the highway. The bicycle is driven on the bicycle path. The airplane is flown in the air. The formula 1 car is driven on the racetrack.'"
      ]
     },
     "execution_count": 43,
     "metadata": {},
     "output_type": "execute_result"
    }
   ],
   "source": [
    "# Defining documents (=sentenses)\n",
    "d1 = 'The car is driven on the road.'\n",
    "d2 = 'The truck is driven on the highway.'\n",
    "d3 = 'The bicycle is driven on the bicycle path.'\n",
    "d4 = 'The airplane is flown in the air.'\n",
    "d5 = 'The formula 1 car is driven on the racetrack.'\n",
    "\n",
    "corpus_01 = d1 + ' ' + d2 + ' ' + d3  + ' ' + d4 + ' ' + d5\n",
    "corpus_01"
   ]
  },
  {
   "cell_type": "markdown",
   "id": "f6abcfb8",
   "metadata": {},
   "source": [
    "#### b) new documents defined"
   ]
  },
  {
   "cell_type": "markdown",
   "id": "49fadda5",
   "metadata": {},
   "source": [
    "## Text preprocessing\n",
    "#### Steps:\n",
    "- Text to lowercase\n",
    "- Removing punctuations\n",
    "- Tokenization\n",
    "- Removal of stop words\n",
    "- Lemmatization"
   ]
  },
  {
   "cell_type": "markdown",
   "id": "71e649b8",
   "metadata": {},
   "source": [
    "### Text to lowercase"
   ]
  },
  {
   "cell_type": "code",
   "execution_count": 44,
   "id": "2666c8b1",
   "metadata": {},
   "outputs": [
    {
     "data": {
      "text/plain": [
       "'the car is driven on the road. the truck is driven on the highway. the bicycle is driven on the bicycle path. the airplane is flown in the air. the formula 1 car is driven on the racetrack.'"
      ]
     },
     "execution_count": 44,
     "metadata": {},
     "output_type": "execute_result"
    }
   ],
   "source": [
    "# Text to lowercase function\n",
    "def text_lowercase(text):\n",
    "    return text.lower()\n",
    "\n",
    "# Text to lowercase\n",
    "corpus_02 = text_lowercase(corpus_01)\n",
    "corpus_02"
   ]
  },
  {
   "cell_type": "markdown",
   "id": "c837286f",
   "metadata": {},
   "source": [
    "### Removing punctuation"
   ]
  },
  {
   "cell_type": "code",
   "execution_count": 45,
   "id": "90067406",
   "metadata": {},
   "outputs": [
    {
     "data": {
      "text/plain": [
       "'the car is driven on the road the truck is driven on the highway the bicycle is driven on the bicycle path the airplane is flown in the air the formula 1 car is driven on the racetrack'"
      ]
     },
     "execution_count": 45,
     "metadata": {},
     "output_type": "execute_result"
    }
   ],
   "source": [
    "# Remove punctuation function\n",
    "def remove_punctuation(text):\n",
    "    translator = str.maketrans('', '', string.punctuation)\n",
    "    return text.translate(translator)\n",
    "\n",
    "# Remove punctuation\n",
    "corpus_03 = remove_punctuation(corpus_02)\n",
    "corpus_03"
   ]
  },
  {
   "cell_type": "markdown",
   "id": "986153d2",
   "metadata": {},
   "source": [
    "### Tokenize text & removal of stopwords"
   ]
  },
  {
   "cell_type": "code",
   "execution_count": 46,
   "id": "e2e99fbd",
   "metadata": {},
   "outputs": [
    {
     "name": "stdout",
     "output_type": "stream",
     "text": [
      "List of english stopwords:\n",
      "{'against', 'we', 'be', 'm', 'haven', 'hers', 'below', 'under', \"you've\", 'me', 'll', 'yours', 'because', 'all', 'once', \"needn't\", 'mustn', 'an', \"should've\", 'between', 'is', 'this', 'doesn', \"didn't\", 'theirs', 'that', 'a', 'each', 'hadn', 'whom', 'off', 've', \"don't\", 'those', \"weren't\", \"you're\", 'when', 'nor', 'yourselves', \"that'll\", 'mightn', 'are', 'aren', 'does', 'needn', 'he', 'in', 'by', 'such', 'while', 'these', 'during', \"hasn't\", \"shouldn't\", 'other', 'than', \"doesn't\", 'about', 'herself', 'ourselves', 'with', 'o', \"hadn't\", 'has', 'no', 'here', 'why', 'after', \"wouldn't\", 'themselves', 'was', 'd', 'there', 'own', 'she', 'isn', 'for', 'as', 's', 'some', 'who', 'our', 'or', 'so', 'if', 'above', \"you'll\", 'doing', \"wasn't\", 'can', 'any', 'where', \"couldn't\", 'couldn', 'the', 'few', 'don', 'do', \"it's\", 'weren', 't', 'himself', 'only', 'too', 'up', 'into', 'through', 'will', 'wasn', 'over', 'i', 'more', \"you'd\", \"haven't\", 'again', 'am', 'until', \"won't\", 'him', 'itself', 'and', 'but', 'having', 'to', 'shan', 'were', 'her', 'very', \"isn't\", 'have', 're', 'before', 'myself', 'should', 'won', 'wouldn', 'yourself', 'hasn', 'from', 'out', \"she's\", 'his', 'just', 'my', 'been', 'at', \"shan't\", 'most', 'both', \"mightn't\", 'y', 'shouldn', 'same', 'your', 'had', 'further', 'then', 'which', \"aren't\", 'didn', 'what', 'ain', 'it', 'you', 'did', \"mustn't\", 'not', 'down', 'its', 'their', 'of', 'how', 'ma', 'they', 'now', 'being', 'them', 'on', 'ours'}\n"
     ]
    }
   ],
   "source": [
    "# Show english stopwords\n",
    "eng_stopwords = set(stopwords.words('english'))\n",
    "print(\"List of english stopwords:\")\n",
    "print(eng_stopwords)"
   ]
  },
  {
   "cell_type": "code",
   "execution_count": 47,
   "id": "d83ab939",
   "metadata": {},
   "outputs": [
    {
     "name": "stdout",
     "output_type": "stream",
     "text": [
      "['car', 'driven', 'road', 'truck', 'driven', 'highway', 'bicycle', 'driven', 'bicycle', 'path', 'airplane', 'flown', 'air', 'formula', '1', 'car', 'driven', 'racetrack']"
     ]
    }
   ],
   "source": [
    "# Function for tokenization and the removal of stopwords\n",
    "def remove_stopwords(text):\n",
    "    stop_words = set(stopwords.words(\"english\"))\n",
    "    word_tokens = word_tokenize(text)\n",
    "    filtered_text = [word for word in word_tokens if word not in stop_words]\n",
    "    return filtered_text\n",
    " \n",
    "# Remove stopwords\n",
    "corpus_04 = remove_stopwords(corpus_03)\n",
    "print(corpus_04, end=\"\")"
   ]
  },
  {
   "cell_type": "markdown",
   "id": "ad590183",
   "metadata": {},
   "source": [
    "### Lemmatization"
   ]
  },
  {
   "cell_type": "code",
   "execution_count": 48,
   "id": "410fed5d",
   "metadata": {},
   "outputs": [
    {
     "name": "stdout",
     "output_type": "stream",
     "text": [
      "Before lemmatization:\n",
      "['car', 'driven', 'road', 'truck', 'driven', 'highway', 'bicycle', 'driven', 'bicycle', 'path', 'airplane', 'flown', 'air', 'formula', '1', 'car', 'driven', 'racetrack'] \n",
      "\n",
      "After lemmatization:\n",
      "['car', 'drive', 'road', 'truck', 'drive', 'highway', 'bicycle', 'drive', 'bicycle', 'path', 'airplane', 'fly', 'air', 'formula', '1', 'car', 'drive', 'racetrack']"
     ]
    }
   ],
   "source": [
    "# Initialize Lemmatizer\n",
    "lemmatizer = WordNetLemmatizer()\n",
    "\n",
    "# Lemmatize string function\n",
    "def lemmatize_word(text):\n",
    "    word_tokens = word_tokenize(text)\n",
    "    lemmas = [lemmatizer.lemmatize(word, pos ='v') for word in word_tokens]\n",
    "    return lemmas\n",
    "\n",
    "# Lemmatize\n",
    "lem = []\n",
    "for i in corpus_04:\n",
    "    lem.append(lemmatize_word(i))\n",
    "\n",
    "# Nested list to list\n",
    "corpus_05 = [' '.join([str(x) for x in lst]) for lst in lem]\n",
    "\n",
    "print('Before lemmatization:')\n",
    "print(corpus_04, '\\n')\n",
    "\n",
    "print('After lemmatization:')\n",
    "print(corpus_05, end=\"\")"
   ]
  },
  {
   "cell_type": "markdown",
   "id": "1d9ad6de",
   "metadata": {},
   "source": [
    "## Redefine the text corpus (pre-processed)"
   ]
  },
  {
   "cell_type": "code",
   "execution_count": 49,
   "id": "08a3cb57",
   "metadata": {},
   "outputs": [],
   "source": [
    "# We will use the lemmatized words above to re-define our corpus \n",
    "corpus = ['car drive road', \n",
    "          'truck drive highway', \n",
    "          'bicycle drive bicycle path',\n",
    "          'airplane fly air',\n",
    "          'formula 1 car drive racetrack']"
   ]
  },
  {
   "cell_type": "markdown",
   "id": "5a4e434d",
   "metadata": {},
   "source": [
    "#### c) corpus adapted using our sentences"
   ]
  },
  {
   "cell_type": "markdown",
   "id": "198cc6d0",
   "metadata": {},
   "source": [
    "## Document-term matrix with ngram_range=(1,1)"
   ]
  },
  {
   "cell_type": "code",
   "execution_count": 50,
   "id": "ead679d3",
   "metadata": {},
   "outputs": [
    {
     "name": "stdout",
     "output_type": "stream",
     "text": [
      "Document-term matrix\n",
      "   air  airplane  bicycle  car  drive  fly  formula  highway  path  racetrack  \\\n",
      "0    0         0        0    1      1    0        0        0     0          0   \n",
      "1    0         0        0    0      1    0        0        1     0          0   \n",
      "2    0         0        2    0      1    0        0        0     1          0   \n",
      "3    1         1        0    0      0    1        0        0     0          0   \n",
      "4    0         0        0    1      1    0        1        0     0          1   \n",
      "\n",
      "   road  truck  \n",
      "0     1      0  \n",
      "1     0      1  \n",
      "2     0      0  \n",
      "3     0      0  \n",
      "4     0      0  \n"
     ]
    }
   ],
   "source": [
    "# Vectorizer with ngram_range=(1,1)\n",
    "vectorizer = CountVectorizer(min_df=0.0, ngram_range=(1,1))\n",
    "\n",
    "# Transform \n",
    "count = vectorizer.fit_transform(corpus)\n",
    "\n",
    "# Create dataframe\n",
    "df_count = pd.DataFrame(count.toarray(),\n",
    "                        columns=vectorizer.get_feature_names_out())\n",
    "\n",
    "print('Document-term matrix')\n",
    "print(df_count)"
   ]
  },
  {
   "cell_type": "markdown",
   "id": "86b18ac3",
   "metadata": {},
   "source": [
    "#### d) document-term matrix for both ranges defined"
   ]
  },
  {
   "cell_type": "markdown",
   "id": "417feb3a",
   "metadata": {},
   "source": [
    "## Document-term matrix with ngram_range=(2,2)"
   ]
  },
  {
   "cell_type": "code",
   "execution_count": 51,
   "id": "4eb33ec6",
   "metadata": {},
   "outputs": [
    {
     "name": "stdout",
     "output_type": "stream",
     "text": [
      "Document-term matrix\n",
      "   airplane fly  bicycle drive  bicycle path  car drive  drive bicycle  \\\n",
      "0             0              0             0          1              0   \n",
      "1             0              0             0          0              0   \n",
      "2             0              1             1          0              1   \n",
      "3             1              0             0          0              0   \n",
      "4             0              0             0          1              0   \n",
      "\n",
      "   drive highway  drive racetrack  drive road  fly air  formula car  \\\n",
      "0              0                0           1        0            0   \n",
      "1              1                0           0        0            0   \n",
      "2              0                0           0        0            0   \n",
      "3              0                0           0        1            0   \n",
      "4              0                1           0        0            1   \n",
      "\n",
      "   truck drive  \n",
      "0            0  \n",
      "1            1  \n",
      "2            0  \n",
      "3            0  \n",
      "4            0  \n"
     ]
    }
   ],
   "source": [
    "# Vectorizer with with ngram_range=(2,2)\n",
    "vectorizer = CountVectorizer(min_df=0.0, ngram_range=(2,2))\n",
    "\n",
    "# Transform \n",
    "count = vectorizer.fit_transform(corpus)\n",
    " \n",
    "# Create dataframe\n",
    "df_count = pd.DataFrame(count.toarray(),\n",
    "                        columns=vectorizer.get_feature_names_out())\n",
    "\n",
    "print('Document-term matrix')\n",
    "print(df_count)"
   ]
  },
  {
   "cell_type": "markdown",
   "id": "c846a236",
   "metadata": {},
   "source": [
    "## Term frequency-inverse document frequency (TF-IDF)\n",
    "- For details see: https://www.learndatasci.com/glossary/tf-idf-term-frequency-inverse-document-frequency"
   ]
  },
  {
   "cell_type": "markdown",
   "id": "5854fa81",
   "metadata": {},
   "source": [
    "### Term Frequency (TF)"
   ]
  },
  {
   "cell_type": "code",
   "execution_count": 52,
   "id": "f9ff38f9",
   "metadata": {},
   "outputs": [
    {
     "name": "stdout",
     "output_type": "stream",
     "text": [
      "Number of words in the corpus: 13 \n",
      "\n",
      "The words in the corpus: \n",
      " {'formula', 'road', 'airplane', 'bicycle', 'fly', 'drive', 'racetrack', 'air', 'path', 'car', 'truck', 'highway', '1'}\n",
      "\n",
      "Term Frequency (TF):\n",
      "   formula    road  airplane  bicycle     fly   drive  racetrack     air  \\\n",
      "0      0.0  0.3333    0.0000      0.0  0.0000  0.3333        0.0  0.0000   \n",
      "1      0.0  0.0000    0.0000      0.0  0.0000  0.3333        0.0  0.0000   \n",
      "2      0.0  0.0000    0.0000      0.5  0.0000  0.2500        0.0  0.0000   \n",
      "3      0.0  0.0000    0.3333      0.0  0.3333  0.0000        0.0  0.3333   \n",
      "4      0.2  0.0000    0.0000      0.0  0.0000  0.2000        0.2  0.0000   \n",
      "\n",
      "   path     car   truck  highway    1  \n",
      "0  0.00  0.3333  0.0000   0.0000  0.0  \n",
      "1  0.00  0.0000  0.3333   0.3333  0.0  \n",
      "2  0.25  0.0000  0.0000   0.0000  0.0  \n",
      "3  0.00  0.0000  0.0000   0.0000  0.0  \n",
      "4  0.00  0.2000  0.0000   0.0000  0.2  \n"
     ]
    }
   ],
   "source": [
    "# Compute Term Frequency (TF)\n",
    "words_set = set()\n",
    "for doc in corpus:\n",
    "    words = doc.split(' ')\n",
    "    words_set = words_set.union(set(words))\n",
    "    \n",
    "print('Number of words in the corpus:',len(words_set), '\\n')\n",
    "print('The words in the corpus: \\n', words_set)\n",
    "\n",
    "# Number of documents in the corpus\n",
    "n_docs = len(corpus)\n",
    "\n",
    "# Number of unique words in the corpus \n",
    "n_words_set = len(words_set)\n",
    "\n",
    "df_tf = pd.DataFrame(np.zeros((n_docs, n_words_set)), \n",
    "                     columns=list(words_set))\n",
    "\n",
    "print(\"\\nTerm Frequency (TF):\")\n",
    "for i in range(n_docs):\n",
    "    # Words in the document\n",
    "    words = corpus[i].split(' ')\n",
    "    for w in words:\n",
    "        df_tf[w][i] = df_tf[w][i] + (1 / len(words))\n",
    "        \n",
    "print(df_tf.round(4))"
   ]
  },
  {
   "cell_type": "markdown",
   "id": "d91dae3d",
   "metadata": {},
   "source": [
    "### Inverse Document Frequency (IDF)"
   ]
  },
  {
   "cell_type": "code",
   "execution_count": 53,
   "id": "5fe31336",
   "metadata": {},
   "outputs": [
    {
     "name": "stdout",
     "output_type": "stream",
     "text": [
      "\n",
      "Inverse Document Frequency (IDF):\n",
      "        formula:      0.699\n",
      "           road:      0.699\n",
      "       airplane:      0.699\n",
      "        bicycle:      0.699\n",
      "            fly:      0.699\n",
      "          drive:     0.0969\n",
      "      racetrack:      0.699\n",
      "            air:      0.699\n",
      "           path:      0.699\n",
      "            car:     0.3979\n",
      "          truck:      0.699\n",
      "        highway:      0.699\n",
      "              1:      0.699\n"
     ]
    }
   ],
   "source": [
    "# Computing Inverse Document Frequency (IDF)\n",
    "print(\"\\nInverse Document Frequency (IDF):\")\n",
    "\n",
    "idf = {}\n",
    "\n",
    "for w in words_set:\n",
    "    \n",
    "    # k = number of documents that contain this word\n",
    "    k = 0\n",
    "    \n",
    "    for i in range(n_docs):\n",
    "        if w in corpus[i].split():\n",
    "            k += 1\n",
    "            \n",
    "    idf[w] =  np.log10(n_docs / k).round(4)\n",
    "    \n",
    "    print(f'{w:>15}: {idf[w]:>10}')"
   ]
  },
  {
   "cell_type": "markdown",
   "id": "cc493eae",
   "metadata": {},
   "source": [
    "### Term Frequency - Inverse Document Frequency (TF-IDF)"
   ]
  },
  {
   "cell_type": "code",
   "execution_count": 54,
   "id": "9c5ae575",
   "metadata": {},
   "outputs": [
    {
     "name": "stdout",
     "output_type": "stream",
     "text": [
      "\n",
      "TF-IDF:\n",
      "   formula   road  airplane  bicycle    fly   drive  racetrack    air    path  \\\n",
      "0   0.0000  0.233     0.000   0.0000  0.000  0.0323     0.0000  0.000  0.0000   \n",
      "1   0.0000  0.000     0.000   0.0000  0.000  0.0323     0.0000  0.000  0.0000   \n",
      "2   0.0000  0.000     0.000   0.3495  0.000  0.0242     0.0000  0.000  0.1748   \n",
      "3   0.0000  0.000     0.233   0.0000  0.233  0.0000     0.0000  0.233  0.0000   \n",
      "4   0.1398  0.000     0.000   0.0000  0.000  0.0194     0.1398  0.000  0.0000   \n",
      "\n",
      "      car  truck  highway       1  \n",
      "0  0.1326  0.000    0.000  0.0000  \n",
      "1  0.0000  0.233    0.233  0.0000  \n",
      "2  0.0000  0.000    0.000  0.0000  \n",
      "3  0.0000  0.000    0.000  0.0000  \n",
      "4  0.0796  0.000    0.000  0.1398  \n"
     ]
    }
   ],
   "source": [
    "# Computing TF-IDF\n",
    "df_tf_idf = df_tf.copy()\n",
    "\n",
    "for w in words_set:\n",
    "    for i in range(n_docs):\n",
    "        df_tf_idf[w][i] = df_tf[w][i] * idf[w]\n",
    "\n",
    "print('\\nTF-IDF:')\n",
    "print(df_tf_idf.round(4))"
   ]
  },
  {
   "cell_type": "markdown",
   "id": "2b875def",
   "metadata": {},
   "source": [
    "#### e) created Term Frequency (TF) matrix, Inverse Document Frequency (IDF) matrix and a Term Frequency - Inverse Document Frequency (TF-IDF) matrix"
   ]
  },
  {
   "cell_type": "markdown",
   "id": "6e7b0f38",
   "metadata": {},
   "source": [
    "## Part-of-Speach (POS) tagging\n",
    "For meaning of POS-tags see: https://pythonexamples.org/nltk-pos-tagging"
   ]
  },
  {
   "cell_type": "code",
   "execution_count": 55,
   "id": "5c8c05c3",
   "metadata": {},
   "outputs": [
    {
     "name": "stdout",
     "output_type": "stream",
     "text": [
      "[('Unfortunately', 'RB', 'O'),\n",
      " ('the', 'DT', 'B-NP'),\n",
      " ('football', 'NN', 'I-NP'),\n",
      " ('team', 'NN', 'B-NP'),\n",
      " ('``', '``', 'O'),\n",
      " ('Manchester', 'NNP', 'O'),\n",
      " ('United', 'NNP', 'O'),\n",
      " (\"''\", \"''\", 'O'),\n",
      " ('did', 'VBD', 'O'),\n",
      " ('not', 'RB', 'O'),\n",
      " ('make', 'VB', 'O'),\n",
      " ('it', 'PRP', 'O'),\n",
      " ('to', 'TO', 'O'),\n",
      " ('the', 'DT', 'B-NP'),\n",
      " ('knockout', 'NN', 'I-NP'),\n",
      " ('stages', 'NNS', 'O'),\n",
      " ('of', 'IN', 'O'),\n",
      " ('the', 'DT', 'O'),\n",
      " ('Champions', 'NNP', 'O'),\n",
      " ('League', 'NNP', 'O'),\n",
      " ('despite', 'IN', 'O'),\n",
      " ('their', 'PRP$', 'O'),\n",
      " ('high', 'JJ', 'O'),\n",
      " ('efforts', 'NNS', 'O'),\n",
      " ('.', '.', 'O')]\n"
     ]
    }
   ],
   "source": [
    "text = '''Unfortunately the football team \"Manchester United\" did not make it to the knockout stages of the Champions League despite their high efforts.'''\n",
    "\n",
    "def preprocess(sent):\n",
    "    sent = nltk.word_tokenize(sent)\n",
    "    sent = nltk.pos_tag(sent)\n",
    "    return sent\n",
    "\n",
    "sent = preprocess(text)\n",
    "pattern = 'NP: {<DT>?<JJ>*<NN>}'\n",
    "\n",
    "cp = nltk.RegexpParser(pattern)\n",
    "cs = cp.parse(sent)\n",
    "\n",
    "iob_tagged = tree2conlltags(cs)\n",
    "\n",
    "# Print the POS-tags\n",
    "pprint(iob_tagged)"
   ]
  },
  {
   "cell_type": "markdown",
   "id": "327bf8cb",
   "metadata": {},
   "source": [
    "#### f) RB = Adverb. Examples: very, silently, DT = Determiner, NN = Noun, NNP = Proper Noun, VBD = Verb, Past tense, example: took"
   ]
  },
  {
   "cell_type": "markdown",
   "id": "7d1243de",
   "metadata": {},
   "source": [
    "### Jupyter notebook --footer info-- (please always provide this at the end of each submitted notebook)"
   ]
  },
  {
   "cell_type": "code",
   "execution_count": 56,
   "id": "017357b2",
   "metadata": {},
   "outputs": [
    {
     "name": "stdout",
     "output_type": "stream",
     "text": [
      "-----------------------------------\n",
      "NT\n",
      "Windows | 10\n",
      "Datetime: 2023-12-14 19:01:37\n",
      "Python Version: 3.11.5\n",
      "-----------------------------------\n"
     ]
    }
   ],
   "source": [
    "import os\n",
    "import platform\n",
    "import socket\n",
    "from platform import python_version\n",
    "from datetime import datetime\n",
    "\n",
    "print('-----------------------------------')\n",
    "print(os.name.upper())\n",
    "print(platform.system(), '|', platform.release())\n",
    "print('Datetime:', datetime.now().strftime(\"%Y-%m-%d %H:%M:%S\"))\n",
    "print('Python Version:', python_version())\n",
    "print('-----------------------------------')"
   ]
  }
 ],
 "metadata": {
  "kernelspec": {
   "display_name": "Python 3 (ipykernel)",
   "language": "python",
   "name": "python3"
  },
  "language_info": {
   "codemirror_mode": {
    "name": "ipython",
    "version": 3
   },
   "file_extension": ".py",
   "mimetype": "text/x-python",
   "name": "python",
   "nbconvert_exporter": "python",
   "pygments_lexer": "ipython3",
   "version": "3.11.5"
  }
 },
 "nbformat": 4,
 "nbformat_minor": 5
}
